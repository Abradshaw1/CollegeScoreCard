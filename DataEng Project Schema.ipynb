{
 "cells": [
  {
   "attachments": {},
   "cell_type": "markdown",
   "metadata": {
    "azdata_cell_guid": "e130dedb-e809-4c0e-9214-cc4b5d5218a2"
   },
   "source": [
    "## Team Olympia - Aidan Bradshaw, David Li, Akylai Batyrbekova"
   ]
  },
  {
   "attachments": {},
   "cell_type": "markdown",
   "metadata": {
    "azdata_cell_guid": "34efaa97-61c8-4030-a83d-696f4f6da34c"
   },
   "source": [
    "`Institutions`\n",
    "\n",
    "The Institutions table stores core institutional data that rarely changes. It serves as the main entity to represent institutions with unique attributes that don't change frequently. The UNITID is our primary key, so each institution has a unique identifier.\n",
    "\n",
    "`Location`\n",
    "\n",
    "The Location table stores region-specific data that is shared. We avoid redundancy by storing regional data separately—linked by UNITID foreign key.\n",
    "\n",
    "`Annual_Institution_Data`\n",
    "\n",
    "Annual institution data table tracks changes in classification and degree offerings annually. It stores this and degree details by year, with Carnegie Classification as CCBASIC.\n",
    "\n",
    "`Financial_Data`\n",
    "\n",
    "This table tracks annual financial metrics by institution, standardized with naming conventions. It stores things like tuition, revenue, salary, and loan default metrics over time (will help with dashboard later).\n",
    "\n",
    "`Admissions_Data`\n",
    "\n",
    "This table allows users to get admission statistics on a yearly basis for analysis and comparison. It maintains a history of acceptance and graduation trends.\n",
    "\n",
    "`Fields_of_Study`\n",
    "\n",
    "This table tracks data on the fields of study offered by each institution per year. It stores program-specific information, allowing users to see trends by field and degree types.\n",
    "\n",
    "`IPEDS_Directory`\n",
    "\n",
    "This is a centralized table for directory and census data—especially for location. It stores address, location, and census data to minimize redundancy."
   ]
  },
  {
   "cell_type": "code",
   "execution_count": null,
   "metadata": {
    "azdata_cell_guid": "072ae077-be05-43ce-8d7f-23380d65e6c1",
    "language": "sql"
   },
   "outputs": [],
   "source": [
    "\n",
    "CREATE TABLE Institutions (\n",
    "    UNITID int primary key,             -- Unique institution ID from College Scorecard/IPEDS\n",
    "    OPEID varchar(10),                     -- Identifier connecting Scorecard and IPEDS\n",
    "    INSTITUTION_NAME varchar(255),         \n",
    "    CONTROL varchar(50),              -- Type of institution Public, Private\n",
    "    ACCREDAGENCY varchar(255)         -- Accrediting agency name\n",
    ");\n",
    "\n",
    "\n",
    "CREATE TABLE Location (\n",
    "    UNITID int references Institutions(UNITID) on update cascade on delete cascade, -- Foreign key to link to Institutions\n",
    "    REGION varchar(50),                         \n",
    "    ST_FIPS varchar(10),                    -- County FIPS code (unique identifier for county-level data)(chcek this no county fips)\n",
    "    ADDRESS varchar(255),                       \n",
    "    CITY varchar(50),                           \n",
    "    STATE varchar(2),                           \n",
    "    ZIP varchar(10),                            \n",
    "    LATITUDE decimal(9,6),                      \n",
    "    LONGITUDE decimal(9,6),                     \n",
    "    primary key (UNITID)                        -- Ensures each institution has unique metadata\n",
    ");\n",
    "\n",
    "\n",
    "CREATE TABLE Annual_Institution_Data (\n",
    "    YEAR int,                                   \n",
    "    UNITID int references Institutions(UNITID) on update cascade on delete cascade, -- Foreign key to Institutions\n",
    "    PREDDEG varchar(50),               -- Most common degree\n",
    "    HIGHDEG varchar(50),               -- Highest degree offered\n",
    "    primary key (YEAR, UNITID)          -- Composite primary key by Year and UNITID\n",
    ");\n",
    "\n",
    "\n",
    "CREATE TABLE Financial_Data (\n",
    "    YEAR int,                                   -- Year of the data entry\n",
    "    UNITID int references Institutions(UNITID) on update cascade on delete cascade, -- Foreign key to Institutions\n",
    "    TUITIONFEE_IN decimal(10, 2),           -- In-state tuition fees\n",
    "    TUITIONFEE_OUT decimal(10, 2),         -- Out-of-state tuition fees\n",
    "    TUITIONFEE_PROG decimal(10, 2),          -- Program-specific tuition fees\n",
    "    TUITFTE decimal(10, 2),                -- Tuition revenue per full-time equivalent student\n",
    "    AVGFACSAL decimal(10, 2),              -- Average annual faculty salary\n",
    "    CDR2 decimal(5, 2),                     -- Two-year loan default rate\n",
    "    CDR3 decimal(5, 2),                      -- Three-year loan default rate\n",
    "    primary key (YEAR, UNITID)                  -- Composite primary key\n",
    ");\n",
    "\n",
    "\n",
    "CREATE TABLE Admissions_Data (\n",
    "    YEAR int,                                   -- Year of the data entry\n",
    "    UNITID int references Institutions(UNITID) on update cascade on delete cascade, -- Foreign key to Institutions\n",
    "    ADM_RATE decimal(5, 2),                    \n",
    "    GRAD_DEBT_MDN int,        -- (extra variable)\n",
    "    SATMTMID int,                        -- (extra variable)\n",
    "    ACTMTMID int,                        -- (extra variable)\n",
    "    primary key (YEAR, UNITID)                  -- Composite primary key\n",
    ");\n",
    "\n",
    "\n",
    "CREATE TABLE IPEDS_Directory (\n",
    "    UNITID int references Institutions(UNITID) on update cascade on delete cascade, -- Foreign key to Institutions\n",
    "    YEAR int,                                   -- Year of the IPEDS data entry                         \n",
    "    CBSA varchar(10),                     -- Core-Based Statistical Area code\n",
    "    CBSA_TYPE varchar(50),                -- CBSA classification type\n",
    "    CSA varchar(10),                       -- Combined Statistical Area code\n",
    "-- CARNEGIE CLASSIFICATION VARIABLES FOR 2021\n",
    "    CCBASIC varchar(50),            -- Carnegie Classification (TODO: this is missing before 2022; prefer IPEDS version?)\n",
    "    CCUGPROF varchar(50),                   -- Carnegie Undergraduate Profile \n",
    "    CCSIZSET varchar(50),                   -- Carnegie Size and Setting variable\n",
    "    CCUGINST varchar(50),              -- Carnegie Undergraduate Instructional Program (beginning 2015-16)\n",
    "    CCGIP varchar(50),             -- Carnegie Graduate Instructional Program (beginning 2015-16)\n",
    "    CCENPROF varchar(50),                     -- Carnegie Enrollment Profile (beginning 2015-16) \n",
    "    primary key (YEAR, UNITID)                  -- Composite primary key to allow annual updates\n",
    ");\n"
   ]
  },
  {
   "cell_type": "code",
   "execution_count": null,
   "metadata": {},
   "outputs": [],
   "source": []
  }
 ],
 "metadata": {
  "kernelspec": {
   "display_name": "SQL",
   "language": "sql",
   "name": "SQL"
  },
  "language_info": {
   "name": "sql",
   "version": ""
  }
 },
 "nbformat": 4,
 "nbformat_minor": 2
}
